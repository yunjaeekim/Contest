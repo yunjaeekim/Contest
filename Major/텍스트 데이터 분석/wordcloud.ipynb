{
 "cells": [
  {
   "cell_type": "code",
   "execution_count": 1,
   "metadata": {},
   "outputs": [
    {
     "name": "stdout",
     "output_type": "stream",
     "text": [
      "WARNING:tensorflow:From c:\\Users\\kyj93\\anaconda3\\lib\\site-packages\\keras\\src\\losses.py:2976: The name tf.losses.sparse_softmax_cross_entropy is deprecated. Please use tf.compat.v1.losses.sparse_softmax_cross_entropy instead.\n",
      "\n",
      "WARNING:tensorflow:From c:\\Users\\kyj93\\anaconda3\\lib\\site-packages\\keras\\src\\backend.py:1398: The name tf.executing_eagerly_outside_functions is deprecated. Please use tf.compat.v1.executing_eagerly_outside_functions instead.\n",
      "\n"
     ]
    }
   ],
   "source": [
    "import copy\n",
    "from konlpy.tag import Okt\n",
    "import pykospacing\n",
    "import kss\n",
    "from nltk.tokenize import TreebankWordTokenizer\n",
    "from wordcloud import WordCloud\n",
    "#불용어를 제거하기 위해 만든 stopwords 파일을 읽어옵니다.\n",
    "with open('data/stopwords.txt', 'r', encoding='utf-8') as f:\n",
    "    stopwords = f.readlines()\n",
    "#stopword 파일을 작성할 때 썼던 줄바꿈 문자들을 전부 제거합니다.\n",
    "stopwords = [x.replace('\\n','') for x in stopwords]\n",
    "okt = Okt()\n",
    "tokenizer = TreebankWordTokenizer()\n",
    "def word_preprocess_korean(text):\n",
    "    my_text = copy.copy(text)\n",
    "    #먼저 줄바꿈 문자들을 전부 제거합니다.\n",
    "    my_text = my_text.replace('\\n', '')\n",
    "    spacer = pykospacing.Spacing()\n",
    "    #이 후 띄어쓰기가 잘못된 경우 전부 다 수정합니다.\n",
    "    my_text = spacer(my_text) \n",
    "    #본문 내용에 대해 각 문장으로 분리합니다.\n",
    "    sents = kss.split_sentences(my_text)\n",
    "    result = []\n",
    "    for sent in sents:\n",
    "        #각 문장에 대해서 품사를 기준으로 단어들을 분리합니다.\n",
    "        morphs = okt.pos(sent)\n",
    "        for word, pos in morphs:\n",
    "            #명사이면서 단어의 길이가 1보다 큰 단어들만 리스트에 포함시킵니다.\n",
    "            if pos in ['Noun'] and len(word) >= 2:\n",
    "                result.append(word)\n",
    "    return result"
   ]
  },
  {
   "cell_type": "code",
   "execution_count": null,
   "metadata": {},
   "outputs": [],
   "source": [
    "import os\n",
    "import pandas as pd\n",
    "import matplotlib.pyplot as plt\n",
    "%matplotlib inline\n",
    "df_lst = ['환경','환경문제','환경해결','환경원인','wordcloud_파생_정책관련','wordcloud_파생_오염관련']\n",
    "for i in df_lst:\n",
    "    file_name = f\"{i}.csv\"\n",
    "    df_dust = pd.read_csv(file_name, encoding = 'utf-8')\n",
    "    df_dust = df_dust.dropna().reset_index(drop = True)\n",
    "    #데이터 프레임을 불러와 중복 제거를 다시 하고 아까 만들었던 함수를 적용합니다.\n",
    "    df_dust['lda_preprocessed_document'] = df_dust['content'].apply(lambda x: word_preprocess_korean(x))\n",
    "    dust = ''\n",
    "    #word cloud를 위해 전처리한 모든 명사들을 하나의 문자열로 합칩니다.\n",
    "    for lst in df_dust['lda_preprocessed_document']:\n",
    "        dust = \" \".join(lst)\n",
    "    cloud = WordCloud(font_path = 'C:\\\\Users\\\\user\\\\anaconda3\\\\envs\\\\text\\\\Lib\\\\site-packages\\\\matplotlib\\\\mpl-data\\\\fonts\\\\malgun.ttf', \n",
    "                  background_color = 'white', \n",
    "                  width=800, height=800)\n",
    "    my_cloud2 = cloud.generate_from_text(dust)\n",
    "\n",
    "    arr2 = my_cloud2.to_array()\n",
    "\n",
    "    fig = plt.figure(figsize=(10, 10))\n",
    "    plt.title(f\"{i} Word Cloud\")\n",
    "    plt.imshow(arr2)\n",
    "    plt.axis('off')\n",
    "    plt.show()\n",
    "    #word cloud를 그린 후 'word cloud'라는 폴더 안에 그림을 저장했습니다.\n",
    "    file_name = f\"{i}.png\"\n",
    "    save_dir = os.path.join(os.getcwd(), 'wordcloud')\n",
    "    file_path = os.path.join(save_dir, file_name)\n",
    "    fig.savefig(file_path, format = 'png')\n",
    "    plt.close()"
   ]
  }
 ],
 "metadata": {
  "kernelspec": {
   "display_name": "base",
   "language": "python",
   "name": "python3"
  },
  "language_info": {
   "codemirror_mode": {
    "name": "ipython",
    "version": 3
   },
   "file_extension": ".py",
   "mimetype": "text/x-python",
   "name": "python",
   "nbconvert_exporter": "python",
   "pygments_lexer": "ipython3",
   "version": "3.9.16"
  }
 },
 "nbformat": 4,
 "nbformat_minor": 2
}
