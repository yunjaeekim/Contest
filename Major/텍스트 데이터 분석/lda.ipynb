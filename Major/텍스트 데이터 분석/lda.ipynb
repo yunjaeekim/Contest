{
 "cells": [
  {
   "cell_type": "code",
   "execution_count": 4,
   "metadata": {},
   "outputs": [],
   "source": [
    "import pandas as pd\n",
    "import pyLDAvis\n",
    "import pyLDAvis.gensim_models as gensimvis"
   ]
  },
  {
   "cell_type": "code",
   "execution_count": 2,
   "metadata": {},
   "outputs": [
    {
     "name": "stdout",
     "output_type": "stream",
     "text": [
      "WARNING:tensorflow:From c:\\Users\\kyj93\\anaconda3\\lib\\site-packages\\keras\\src\\losses.py:2976: The name tf.losses.sparse_softmax_cross_entropy is deprecated. Please use tf.compat.v1.losses.sparse_softmax_cross_entropy instead.\n",
      "\n",
      "WARNING:tensorflow:From c:\\Users\\kyj93\\anaconda3\\lib\\site-packages\\keras\\src\\backend.py:1398: The name tf.executing_eagerly_outside_functions is deprecated. Please use tf.compat.v1.executing_eagerly_outside_functions instead.\n",
      "\n"
     ]
    }
   ],
   "source": [
    "import copy\n",
    "from konlpy.tag import Okt\n",
    "import pykospacing\n",
    "import kss\n",
    "from nltk.tokenize import TreebankWordTokenizer\n",
    "from wordcloud import WordCloud\n",
    "#불용어를 제거하기 위해 만든 stopwords 파일을 읽어옵니다.\n",
    "with open('data/stopwords.txt', 'r', encoding='utf-8') as f:\n",
    "    stopwords = f.readlines()\n",
    "#stopword 파일을 작성할 때 썼던 줄바꿈 문자들을 전부 제거합니다.\n",
    "stopwords = [x.replace('\\n','') for x in stopwords]\n",
    "okt = Okt()\n",
    "tokenizer = TreebankWordTokenizer()\n",
    "def word_preprocess_korean(text):\n",
    "    my_text = copy.copy(text)\n",
    "    #먼저 줄바꿈 문자들을 전부 제거합니다.\n",
    "    my_text = my_text.replace('\\n', '')\n",
    "    spacer = pykospacing.Spacing()\n",
    "    #이 후 띄어쓰기가 잘못된 경우 전부 다 수정합니다.\n",
    "    my_text = spacer(my_text) \n",
    "    #본문 내용에 대해 각 문장으로 분리합니다.\n",
    "    sents = kss.split_sentences(my_text)\n",
    "    result = []\n",
    "    for sent in sents:\n",
    "        #각 문장에 대해서 품사를 기준으로 단어들을 분리합니다.\n",
    "        morphs = okt.pos(sent)\n",
    "        for word, pos in morphs:\n",
    "            #명사이면서 단어의 길이가 1보다 큰 단어들만 리스트에 포함시킵니다.\n",
    "            if pos in ['Noun'] and len(word) >= 2:\n",
    "                result.append(word)\n",
    "    return result"
   ]
  },
  {
   "cell_type": "code",
   "execution_count": 6,
   "metadata": {},
   "outputs": [],
   "source": [
    "df_dust = pd.read_csv('지구온난화_.csv',encoding = 'utf-8')"
   ]
  },
  {
   "cell_type": "code",
   "execution_count": 7,
   "metadata": {},
   "outputs": [
    {
     "name": "stderr",
     "output_type": "stream",
     "text": [
      "[Kss]: Oh! You have mecab in your environment. Kss will take this as a backend! :D\n",
      "\n"
     ]
    }
   ],
   "source": [
    "# lda_preprocessed_document == word_preprocess_korean (사용자 정의 함수)\n",
    "df_dust['lda_preprocessed_document'] = df_dust['content'].apply(lambda x: word_preprocess_korean(x))\n",
    "dust = ''\n",
    "# dataframe의 content(본문) 부분이 list 형태이기 때문에 이를 str로 변환\n",
    "for lst in df_dust['lda_preprocessed_document']:\n",
    "    dust = \" \".join(lst)   \n",
    "from gensim import corpora\n",
    "import gensim\n",
    "from IPython.core.display import HTML\n",
    "import pyLDAvis\n",
    "from pyLDAvis import gensim_models\n",
    "# 전처리가 된 context에 대해서 진행\n",
    "word_dict = corpora.Dictionary(df_dust['lda_preprocessed_document'])\n",
    "# Bag of words를 ㅌ`사용해서 벡터화를 시킴\n",
    "corpus = [word_dict.doc2bow(text) for text in df_dust['lda_preprocessed_document']]\n",
    "# topic을 15개로 지정\n",
    "N_TOPICS = 15\n",
    "# gensim 라이브러를 활용해서 LDA model 만들고 ldamodel에 저장\n",
    "ldamodel = gensim.models.ldamodel.LdaModel(corpus, \n",
    "                                           num_topics = N_TOPICS, \n",
    "                                           id2word=word_dict)\n",
    "# 시각화\n",
    "vis = pyLDAvis.gensim_models.prepare(ldamodel, corpus, word_dict)\n",
    "pyLDAvis.enable_notebook()\n",
    "pyLDAvis.display(vis)"
   ]
  },
  {
   "cell_type": "code",
   "execution_count": null,
   "metadata": {},
   "outputs": [],
   "source": []
  }
 ],
 "metadata": {
  "kernelspec": {
   "display_name": "base",
   "language": "python",
   "name": "python3"
  },
  "language_info": {
   "codemirror_mode": {
    "name": "ipython",
    "version": 3
   },
   "file_extension": ".py",
   "mimetype": "text/x-python",
   "name": "python",
   "nbconvert_exporter": "python",
   "pygments_lexer": "ipython3",
   "version": "3.9.16"
  }
 },
 "nbformat": 4,
 "nbformat_minor": 2
}
